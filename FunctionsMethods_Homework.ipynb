{
 "cells": [
  {
   "cell_type": "code",
   "execution_count": 13,
   "id": "bf1ca5e4",
   "metadata": {},
   "outputs": [],
   "source": [
    "# This function returns the volume of a sphere\n",
    "def sphere_vol(rad):\n",
    "    return (4/3)*(3.14)*rad**3"
   ]
  },
  {
   "cell_type": "code",
   "execution_count": 14,
   "id": "147c5c38",
   "metadata": {},
   "outputs": [
    {
     "name": "stdout",
     "output_type": "stream",
     "text": [
      "33.49333333333333\n"
     ]
    }
   ],
   "source": [
    "print(sphere_vol(2))"
   ]
  },
  {
   "cell_type": "code",
   "execution_count": 10,
   "id": "73b7b3b9",
   "metadata": {},
   "outputs": [],
   "source": [
    "def ran_check(num,low,high):\n",
    "    return num in [x for x in range(low,high)]"
   ]
  },
  {
   "cell_type": "code",
   "execution_count": 12,
   "id": "025a280a",
   "metadata": {},
   "outputs": [
    {
     "name": "stdout",
     "output_type": "stream",
     "text": [
      "True\n"
     ]
    }
   ],
   "source": [
    "print(ran_check(5,2,7))"
   ]
  },
  {
   "cell_type": "code",
   "execution_count": 26,
   "id": "6e56a9d6",
   "metadata": {},
   "outputs": [],
   "source": [
    "def up_low(s):\n",
    "    count = 0\n",
    "    ncount = 0\n",
    "    \n",
    "    for char in s:\n",
    "        if char.isupper():\n",
    "            count += 1\n",
    "        elif char.islower():\n",
    "            ncount += 1\n",
    "            \n",
    "    print(f'No. of Upper case character : {count}')\n",
    "    print(f'No of Lower case character : {ncount}')"
   ]
  },
  {
   "cell_type": "code",
   "execution_count": 25,
   "id": "1190d277",
   "metadata": {},
   "outputs": [
    {
     "name": "stdout",
     "output_type": "stream",
     "text": [
      "No. of Upper case character : 4\n",
      "No of Lower case character : 33\n"
     ]
    }
   ],
   "source": [
    "up_low('Hello Mr. Rogers, how are you this fine Tuesday?')"
   ]
  },
  {
   "cell_type": "code",
   "execution_count": 38,
   "id": "17d3fff9",
   "metadata": {},
   "outputs": [],
   "source": [
    "def unique_list(num_list):\n",
    "    num_list = set(num_list)\n",
    "    num_list = list(num_list)\n",
    "    num_list.sort()\n",
    "    \n",
    "    return num_list"
   ]
  },
  {
   "cell_type": "code",
   "execution_count": 39,
   "id": "15463a95",
   "metadata": {},
   "outputs": [
    {
     "name": "stdout",
     "output_type": "stream",
     "text": [
      "[1, 2, 3, 4, 5]\n"
     ]
    }
   ],
   "source": [
    "print(unique_list([1,1,1,1,2,2,3,3,3,3,4,5]))"
   ]
  },
  {
   "cell_type": "code",
   "execution_count": 44,
   "id": "b73f3ca1",
   "metadata": {},
   "outputs": [],
   "source": [
    "def multiply(num_list):\n",
    "    result = 1\n",
    "    for num in num_list:\n",
    "        result *= num\n",
    "    return result"
   ]
  },
  {
   "cell_type": "code",
   "execution_count": 46,
   "id": "638057d7",
   "metadata": {},
   "outputs": [
    {
     "name": "stdout",
     "output_type": "stream",
     "text": [
      "-24\n"
     ]
    }
   ],
   "source": [
    "print(multiply([1,2,3,-4]))"
   ]
  },
  {
   "cell_type": "code",
   "execution_count": 52,
   "id": "58652b72",
   "metadata": {},
   "outputs": [],
   "source": [
    "def ispalindrome(a):\n",
    "    return a[0] == a[-1]"
   ]
  },
  {
   "cell_type": "code",
   "execution_count": 53,
   "id": "b0f23871",
   "metadata": {},
   "outputs": [
    {
     "name": "stdout",
     "output_type": "stream",
     "text": [
      "False\n"
     ]
    }
   ],
   "source": [
    "print(palindrome('anshuman Routray'))"
   ]
  },
  {
   "cell_type": "code",
   "execution_count": 110,
   "id": "f445c82c",
   "metadata": {},
   "outputs": [],
   "source": [
    "import string\n",
    "\n",
    "def ispangram(words, alphabet = string.ascii_lowercase):\n",
    "    words = words.replace(' ','').replace('',' ').lower().split()\n",
    "    words = set(words)\n",
    "    words = list(words)\n",
    "    words.sort()\n",
    "    \n",
    "    return ''.join(words) == alphabet"
   ]
  },
  {
   "cell_type": "code",
   "execution_count": 109,
   "id": "9a589b84",
   "metadata": {},
   "outputs": [
    {
     "ename": "TypeError",
     "evalue": "descriptor 'sort' of 'list' object needs an argument",
     "output_type": "error",
     "traceback": [
      "\u001b[1;31m---------------------------------------------------------------------------\u001b[0m",
      "\u001b[1;31mTypeError\u001b[0m                                 Traceback (most recent call last)",
      "\u001b[1;32m<ipython-input-109-b36b41a49219>\u001b[0m in \u001b[0;36m<module>\u001b[1;34m\u001b[0m\n\u001b[1;32m----> 1\u001b[1;33m \u001b[0mprint\u001b[0m\u001b[1;33m(\u001b[0m\u001b[0mispangram\u001b[0m\u001b[1;33m(\u001b[0m\u001b[1;34m\"The quick brown fox jumps over the lazy dog\"\u001b[0m\u001b[1;33m)\u001b[0m\u001b[1;33m)\u001b[0m\u001b[1;33m\u001b[0m\u001b[1;33m\u001b[0m\u001b[0m\n\u001b[0m",
      "\u001b[1;32m<ipython-input-108-f4dcb19b223a>\u001b[0m in \u001b[0;36mispangram\u001b[1;34m(words, alphabet)\u001b[0m\n\u001b[0;32m      5\u001b[0m     \u001b[0mwords\u001b[0m \u001b[1;33m=\u001b[0m \u001b[0mset\u001b[0m\u001b[1;33m(\u001b[0m\u001b[0mwords\u001b[0m\u001b[1;33m)\u001b[0m\u001b[1;33m\u001b[0m\u001b[1;33m\u001b[0m\u001b[0m\n\u001b[0;32m      6\u001b[0m     \u001b[0mwords\u001b[0m \u001b[1;33m=\u001b[0m \u001b[0mlist\u001b[0m\u001b[1;33m(\u001b[0m\u001b[0mwords\u001b[0m\u001b[1;33m)\u001b[0m\u001b[1;33m\u001b[0m\u001b[1;33m\u001b[0m\u001b[0m\n\u001b[1;32m----> 7\u001b[1;33m     \u001b[0mwords\u001b[0m \u001b[1;33m=\u001b[0m \u001b[0mlist\u001b[0m\u001b[1;33m.\u001b[0m\u001b[0msort\u001b[0m\u001b[1;33m(\u001b[0m\u001b[1;33m)\u001b[0m\u001b[1;33m\u001b[0m\u001b[1;33m\u001b[0m\u001b[0m\n\u001b[0m\u001b[0;32m      8\u001b[0m \u001b[1;33m\u001b[0m\u001b[0m\n\u001b[0;32m      9\u001b[0m     \u001b[1;32mreturn\u001b[0m \u001b[1;34m''\u001b[0m\u001b[1;33m.\u001b[0m\u001b[0mjoin\u001b[0m\u001b[1;33m(\u001b[0m\u001b[0mwords\u001b[0m\u001b[1;33m)\u001b[0m \u001b[1;33m==\u001b[0m \u001b[0malphabet\u001b[0m\u001b[1;33m\u001b[0m\u001b[1;33m\u001b[0m\u001b[0m\n",
      "\u001b[1;31mTypeError\u001b[0m: descriptor 'sort' of 'list' object needs an argument"
     ]
    }
   ],
   "source": [
    "print(ispangram(\"The quick brown fox jumps over the lazy dog\"))"
   ]
  },
  {
   "cell_type": "code",
   "execution_count": null,
   "id": "69c8c718",
   "metadata": {},
   "outputs": [],
   "source": []
  }
 ],
 "metadata": {
  "kernelspec": {
   "display_name": "Python 3",
   "language": "python",
   "name": "python3"
  },
  "language_info": {
   "codemirror_mode": {
    "name": "ipython",
    "version": 3
   },
   "file_extension": ".py",
   "mimetype": "text/x-python",
   "name": "python",
   "nbconvert_exporter": "python",
   "pygments_lexer": "ipython3",
   "version": "3.8.8"
  }
 },
 "nbformat": 4,
 "nbformat_minor": 5
}
